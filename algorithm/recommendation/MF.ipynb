{
 "cells": [
  {
   "cell_type": "code",
   "execution_count": 1,
   "metadata": {},
   "outputs": [],
   "source": [
    "import numpy as np\n",
    "\n",
    "\n",
    "class MatrixFactorization():\n",
    "    def __init__(self, R, k, learning_rate, reg_param, epochs, verbose=False):\n",
    "        \"\"\"\n",
    "        :param R: rating matrix\n",
    "        :param k: latent parameter\n",
    "        :param learning_rate: alpha on weight update\n",
    "        :param reg_param: beta on weight update\n",
    "        :param epochs: training epochs\n",
    "        :param verbose: print status\n",
    "        \"\"\"\n",
    "\n",
    "        self._R = R\n",
    "        self._num_users, self._num_items = R.shape\n",
    "        self._k = k\n",
    "        self._learning_rate = learning_rate\n",
    "        self._reg_param = reg_param\n",
    "        self._epochs = epochs\n",
    "        self._verbose = verbose\n",
    "\n",
    "\n",
    "    def fit(self):\n",
    "        \"\"\"\n",
    "        training Matrix Factorization : Update matrix latent weight and bias\n",
    "\n",
    "        참고: self._b에 대한 설명\n",
    "        - global bias: input R에서 평가가 매겨진 rating의 평균값을 global bias로 사용\n",
    "        - 정규화 기능. 최종 rating에 음수가 들어가는 것 대신 latent feature에 음수가 포함되도록 해줌.\n",
    "\n",
    "        :return: training_process\n",
    "        \"\"\"\n",
    "\n",
    "        # init latent features\n",
    "        self._P = np.random.normal(size=(self._num_users, self._k))\n",
    "        self._Q = np.random.normal(size=(self._num_items, self._k))\n",
    "\n",
    "        # init biases\n",
    "        self._b_P = np.zeros(self._num_users)\n",
    "        self._b_Q = np.zeros(self._num_items)\n",
    "        self._b = np.mean(self._R[np.where(self._R != 0)])\n",
    "\n",
    "        # train while epochs\n",
    "        self._training_process = []\n",
    "        for epoch in range(self._epochs):\n",
    "\n",
    "            # rating이 존재하는 index를 기준으로 training\n",
    "            for i in range(self._num_users):\n",
    "                for j in range(self._num_items):\n",
    "                    if self._R[i, j] > 0:\n",
    "                        self.gradient_descent(i, j, self._R[i, j])\n",
    "            cost = self.cost()\n",
    "            self._training_process.append((epoch, cost))\n",
    "\n",
    "            # print status\n",
    "            if self._verbose == True and ((epoch + 1) % 10 == 0):\n",
    "                print(\"Iteration: %d ; cost = %.4f\" % (epoch + 1, cost))\n",
    "\n",
    "\n",
    "    def cost(self):\n",
    "        \"\"\"\n",
    "        compute root mean square error\n",
    "        :return: rmse cost\n",
    "        \"\"\"\n",
    "\n",
    "        # xi, yi: R[xi, yi]는 nonzero인 value를 의미한다.\n",
    "        # 참고: http://codepractice.tistory.com/90\n",
    "        xi, yi = self._R.nonzero()\n",
    "        predicted = self.get_complete_matrix()\n",
    "        cost = 0\n",
    "        for x, y in zip(xi, yi):\n",
    "            cost += pow(self._R[x, y] - predicted[x, y], 2)\n",
    "        return np.sqrt(cost) / len(xi)\n",
    "\n",
    "\n",
    "    def gradient(self, error, i, j):\n",
    "        \"\"\"\n",
    "        gradient of latent feature for GD\n",
    "\n",
    "        :param error: rating - prediction error\n",
    "        :param i: user index\n",
    "        :param j: item index\n",
    "        :return: gradient of latent feature tuple\n",
    "        \"\"\"\n",
    "\n",
    "        dp = (error * self._Q[j, :]) - (self._reg_param * self._P[i, :])\n",
    "        dq = (error * self._P[i, :]) - (self._reg_param * self._Q[j, :])\n",
    "        return dp, dq\n",
    "\n",
    "\n",
    "    def gradient_descent(self, i, j, rating):\n",
    "        \"\"\"\n",
    "        graident descent function\n",
    "\n",
    "        :param i: user index of matrix\n",
    "        :param j: item index of matrix\n",
    "        :param rating: rating of (i,j)\n",
    "        \"\"\"\n",
    "\n",
    "        # get error\n",
    "        prediction = self.get_prediction(i, j)\n",
    "        error = rating - prediction\n",
    "\n",
    "        # update biases\n",
    "        self._b_P[i] += self._learning_rate * (error - self._reg_param * self._b_P[i])\n",
    "        self._b_Q[j] += self._learning_rate * (error - self._reg_param * self._b_Q[j])\n",
    "\n",
    "        # update latent feature\n",
    "        dp, dq = self.gradient(error, i, j)\n",
    "        self._P[i, :] += self._learning_rate * dp\n",
    "        self._Q[j, :] += self._learning_rate * dq\n",
    "\n",
    "\n",
    "    def get_prediction(self, i, j):\n",
    "        \"\"\"\n",
    "        get predicted rating: user_i, item_j\n",
    "        :return: prediction of r_ij\n",
    "        \"\"\"\n",
    "        return self._b + self._b_P[i] + self._b_Q[j] + self._P[i, :].dot(self._Q[j, :].T)\n",
    "\n",
    "\n",
    "    def get_complete_matrix(self):\n",
    "        \"\"\"\n",
    "        computer complete matrix PXQ + P.bias + Q.bias + global bias\n",
    "\n",
    "        - PXQ 행렬에 b_P[:, np.newaxis]를 더하는 것은 각 열마다 bias를 더해주는 것\n",
    "        - b_Q[np.newaxis:, ]를 더하는 것은 각 행마다 bias를 더해주는 것\n",
    "        - b를 더하는 것은 각 element마다 bias를 더해주는 것\n",
    "\n",
    "        - newaxis: 차원을 추가해줌. 1차원인 Latent들로 2차원의 R에 행/열 단위 연산을 해주기위해 차원을 추가하는 것.\n",
    "\n",
    "        :return: complete matrix R^\n",
    "        \"\"\"\n",
    "        return self._b + self._b_P[:, np.newaxis] + self._b_Q[np.newaxis:, ] + self._P.dot(self._Q.T)\n",
    "\n",
    "\n",
    "    def print_results(self):\n",
    "        \"\"\"\n",
    "        print fit results\n",
    "        \"\"\"\n",
    "\n",
    "        print(\"User Latent P:\")\n",
    "        print(self._P)\n",
    "        print(\"Item Latent Q:\")\n",
    "        print(self._Q.T)\n",
    "        print(\"P x Q:\")\n",
    "        print(self._P.dot(self._Q.T))\n",
    "        print(\"bias:\")\n",
    "        print(self._b)\n",
    "        print(\"User Latent bias:\")\n",
    "        print(self._b_P)\n",
    "        print(\"Item Latent bias:\")\n",
    "        print(self._b_Q)\n",
    "        print(\"Final R matrix:\")\n",
    "        print(self.get_complete_matrix())\n",
    "        print(\"Final RMSE:\")\n",
    "        print(self._training_process[self._epochs-1][1])"
   ]
  },
  {
   "cell_type": "code",
   "execution_count": 2,
   "metadata": {},
   "outputs": [],
   "source": [
    "import numpy as np\n",
    "import pandas as pd\n",
    "\n",
    "ratings_data = pd.read_csv('C:\\\\Users\\\\multicampus\\\\BigdataPrac\\\\data_ratings.dat', sep='::', names=['user_id', 'movie_id', 'rating', 'timestamp'], engine='python')"
   ]
  },
  {
   "cell_type": "code",
   "execution_count": 3,
   "metadata": {},
   "outputs": [],
   "source": [
    "del ratings_data['timestamp']"
   ]
  },
  {
   "cell_type": "code",
   "execution_count": 4,
   "metadata": {},
   "outputs": [
    {
     "data": {
      "text/html": [
       "<div>\n",
       "<style scoped>\n",
       "    .dataframe tbody tr th:only-of-type {\n",
       "        vertical-align: middle;\n",
       "    }\n",
       "\n",
       "    .dataframe tbody tr th {\n",
       "        vertical-align: top;\n",
       "    }\n",
       "\n",
       "    .dataframe thead th {\n",
       "        text-align: right;\n",
       "    }\n",
       "</style>\n",
       "<table border=\"1\" class=\"dataframe\">\n",
       "  <thead>\n",
       "    <tr style=\"text-align: right;\">\n",
       "      <th></th>\n",
       "      <th>user_id</th>\n",
       "      <th>movie_id</th>\n",
       "      <th>rating</th>\n",
       "    </tr>\n",
       "  </thead>\n",
       "  <tbody>\n",
       "    <tr>\n",
       "      <td>0</td>\n",
       "      <td>1</td>\n",
       "      <td>1193</td>\n",
       "      <td>5</td>\n",
       "    </tr>\n",
       "    <tr>\n",
       "      <td>1</td>\n",
       "      <td>1</td>\n",
       "      <td>661</td>\n",
       "      <td>3</td>\n",
       "    </tr>\n",
       "    <tr>\n",
       "      <td>2</td>\n",
       "      <td>1</td>\n",
       "      <td>914</td>\n",
       "      <td>3</td>\n",
       "    </tr>\n",
       "    <tr>\n",
       "      <td>3</td>\n",
       "      <td>1</td>\n",
       "      <td>3408</td>\n",
       "      <td>4</td>\n",
       "    </tr>\n",
       "    <tr>\n",
       "      <td>4</td>\n",
       "      <td>1</td>\n",
       "      <td>2355</td>\n",
       "      <td>5</td>\n",
       "    </tr>\n",
       "    <tr>\n",
       "      <td>...</td>\n",
       "      <td>...</td>\n",
       "      <td>...</td>\n",
       "      <td>...</td>\n",
       "    </tr>\n",
       "    <tr>\n",
       "      <td>1000204</td>\n",
       "      <td>6040</td>\n",
       "      <td>1091</td>\n",
       "      <td>1</td>\n",
       "    </tr>\n",
       "    <tr>\n",
       "      <td>1000205</td>\n",
       "      <td>6040</td>\n",
       "      <td>1094</td>\n",
       "      <td>5</td>\n",
       "    </tr>\n",
       "    <tr>\n",
       "      <td>1000206</td>\n",
       "      <td>6040</td>\n",
       "      <td>562</td>\n",
       "      <td>5</td>\n",
       "    </tr>\n",
       "    <tr>\n",
       "      <td>1000207</td>\n",
       "      <td>6040</td>\n",
       "      <td>1096</td>\n",
       "      <td>4</td>\n",
       "    </tr>\n",
       "    <tr>\n",
       "      <td>1000208</td>\n",
       "      <td>6040</td>\n",
       "      <td>1097</td>\n",
       "      <td>4</td>\n",
       "    </tr>\n",
       "  </tbody>\n",
       "</table>\n",
       "<p>1000209 rows × 3 columns</p>\n",
       "</div>"
      ],
      "text/plain": [
       "         user_id  movie_id  rating\n",
       "0              1      1193       5\n",
       "1              1       661       3\n",
       "2              1       914       3\n",
       "3              1      3408       4\n",
       "4              1      2355       5\n",
       "...          ...       ...     ...\n",
       "1000204     6040      1091       1\n",
       "1000205     6040      1094       5\n",
       "1000206     6040       562       5\n",
       "1000207     6040      1096       4\n",
       "1000208     6040      1097       4\n",
       "\n",
       "[1000209 rows x 3 columns]"
      ]
     },
     "execution_count": 4,
     "metadata": {},
     "output_type": "execute_result"
    }
   ],
   "source": [
    "ratings_data"
   ]
  },
  {
   "cell_type": "code",
   "execution_count": 5,
   "metadata": {},
   "outputs": [],
   "source": [
    "R = ratings_data.set_index(['user_id', 'movie_id']).unstack()"
   ]
  },
  {
   "cell_type": "code",
   "execution_count": 28,
   "metadata": {},
   "outputs": [],
   "source": [
    "R_copy = ratings_data.set_index(['user_id', 'movie_id']).unstack()"
   ]
  },
  {
   "cell_type": "code",
   "execution_count": 111,
   "metadata": {},
   "outputs": [
    {
     "name": "stdout",
     "output_type": "stream",
     "text": [
      "6040 3706\n"
     ]
    }
   ],
   "source": [
    "user_cnt = R.shape[0]\n",
    "movie_cnt = R.shape[1]\n",
    "print(user_cnt, movie_cnt)"
   ]
  },
  {
   "cell_type": "code",
   "execution_count": 34,
   "metadata": {},
   "outputs": [],
   "source": [
    "# R_copy"
   ]
  },
  {
   "cell_type": "code",
   "execution_count": 6,
   "metadata": {},
   "outputs": [],
   "source": [
    "R = R.fillna(0)"
   ]
  },
  {
   "cell_type": "code",
   "execution_count": 7,
   "metadata": {},
   "outputs": [],
   "source": [
    "R = R.values"
   ]
  },
  {
   "cell_type": "code",
   "execution_count": 8,
   "metadata": {},
   "outputs": [],
   "source": [
    "factorizer = MatrixFactorization(R, k=100, learning_rate=0.01, reg_param=0.01, epochs=200, verbose=True)"
   ]
  },
  {
   "cell_type": "code",
   "execution_count": 9,
   "metadata": {},
   "outputs": [
    {
     "name": "stdout",
     "output_type": "stream",
     "text": [
      "Iteration: 10 ; cost = 0.0008\n",
      "Iteration: 20 ; cost = 0.0007\n",
      "Iteration: 30 ; cost = 0.0006\n",
      "Iteration: 40 ; cost = 0.0006\n",
      "Iteration: 50 ; cost = 0.0005\n",
      "Iteration: 60 ; cost = 0.0005\n",
      "Iteration: 70 ; cost = 0.0005\n",
      "Iteration: 80 ; cost = 0.0005\n",
      "Iteration: 90 ; cost = 0.0005\n",
      "Iteration: 100 ; cost = 0.0004\n",
      "Iteration: 110 ; cost = 0.0004\n",
      "Iteration: 120 ; cost = 0.0004\n",
      "Iteration: 130 ; cost = 0.0004\n",
      "Iteration: 140 ; cost = 0.0004\n",
      "Iteration: 150 ; cost = 0.0004\n",
      "Iteration: 160 ; cost = 0.0004\n",
      "Iteration: 170 ; cost = 0.0004\n",
      "Iteration: 180 ; cost = 0.0004\n",
      "Iteration: 190 ; cost = 0.0004\n",
      "Iteration: 200 ; cost = 0.0004\n",
      "Wall time: 1h 30min 39s\n"
     ]
    }
   ],
   "source": [
    "%%time\n",
    "\n",
    "factorizer.fit()"
   ]
  },
  {
   "cell_type": "code",
   "execution_count": 10,
   "metadata": {
    "scrolled": false
   },
   "outputs": [
    {
     "name": "stdout",
     "output_type": "stream",
     "text": [
      "User Latent P:\n",
      "[[ 0.07411271  0.65265781  0.15297425 ... -0.26981768  0.4293396\n",
      "  -0.22440656]\n",
      " [-0.11946675  0.01752697  0.07997298 ...  0.23062905 -0.56224651\n",
      "  -0.07343287]\n",
      " [ 0.94488104  0.05780644  0.12441565 ...  0.65964921 -0.58166792\n",
      "   0.45438793]\n",
      " ...\n",
      " [-0.10124685 -0.37163765  0.41706112 ... -0.54483068 -1.06956702\n",
      "   0.05810076]\n",
      " [ 0.12965354  0.2291794   0.1246555  ... -0.05472163  0.21782902\n",
      "  -0.02974145]\n",
      " [ 0.01532384  0.2043657  -0.01232908 ... -0.05430694 -0.03434418\n",
      "  -0.16395204]]\n",
      "Item Latent Q:\n",
      "[[ 0.15750456 -0.16970222  0.0451356  ...  0.12523857 -0.31840572\n",
      "  -0.17043988]\n",
      " [ 0.00624281  0.13546461 -0.47722879 ...  0.29569755 -0.50575226\n",
      "   0.08161755]\n",
      " [ 0.20284788 -0.02262183  0.67987306 ... -0.0884303  -0.02171559\n",
      "   0.00608657]\n",
      " ...\n",
      " [-0.12499009  0.09978715  0.08065375 ...  0.28058859 -0.48937023\n",
      "  -0.16660872]\n",
      " [-0.09493838  0.57884383  0.00726823 ... -0.12744537 -0.69047766\n",
      "   0.34948615]\n",
      " [-0.11023807 -0.35994384 -0.7251919  ...  0.05693977 -0.37311892\n",
      "   0.15640456]]\n",
      "P x Q:\n",
      "[[ 0.38975729 -1.42327879  0.94219539 ... -0.35390576 -0.03383675\n",
      "   1.46248676]\n",
      " [-0.7114453  -0.41074632 -0.03033802 ...  4.05339981  1.70741326\n",
      "   0.00968469]\n",
      " [-0.16344501 -1.41276042  0.24513512 ...  0.63321251 -4.1661331\n",
      "  -0.85642361]\n",
      " ...\n",
      " [ 0.81520048 -2.73803727 -0.54402588 ... -0.85140689  1.12943897\n",
      "   0.35940128]\n",
      " [ 0.18399524  0.17107883  0.63573311 ...  0.57870204 -0.51974151\n",
      "   0.73740239]\n",
      " [ 0.11509421 -0.38720214 -0.89140746 ...  0.58052487  0.34532329\n",
      "  -0.01137405]]\n",
      "bias:\n",
      "3.581564453029317\n",
      "User Latent bias:\n",
      "[ 0.21440382 -0.10174377  0.13786347 ... -0.25935714  0.0104654\n",
      " -0.47156611]\n",
      "Item Latent bias:\n",
      "[ 0.56982139 -0.33887585 -0.52424178 ... -0.10886463 -0.0656743\n",
      "  0.13741412]\n",
      "Final R matrix:\n",
      "[[ 4.75554696  2.03381364  4.21392188 ...  3.33319789  3.69645722\n",
      "   5.39586915]\n",
      " [ 3.33819677  2.73019851  2.92524088 ...  7.42435586  5.12155964\n",
      "   3.62691949]\n",
      " [ 4.1258043   1.96779165  3.44032126 ...  4.2437758  -0.51237948\n",
      "   3.00041842]\n",
      " ...\n",
      " [ 4.70722919  0.24529419  2.25393965 ...  2.36193579  4.38597198\n",
      "   3.8190227 ]\n",
      " [ 4.34584649  3.42423284  3.70352119 ...  4.06186727  3.00661404\n",
      "   4.46684637]\n",
      " [ 3.79491395  2.38392036  1.6943491  ...  3.58165858  3.38964733\n",
      "   3.23603841]]\n",
      "Final RMSE:\n",
      "0.00039348729447728406\n"
     ]
    }
   ],
   "source": [
    "factorizer.print_results()"
   ]
  },
  {
   "cell_type": "code",
   "execution_count": 11,
   "metadata": {},
   "outputs": [
    {
     "data": {
      "text/plain": [
       "array([[ 4.75554696,  2.03381364,  4.21392188, ...,  3.33319789,\n",
       "         3.69645722,  5.39586915],\n",
       "       [ 3.33819677,  2.73019851,  2.92524088, ...,  7.42435586,\n",
       "         5.12155964,  3.62691949],\n",
       "       [ 4.1258043 ,  1.96779165,  3.44032126, ...,  4.2437758 ,\n",
       "        -0.51237948,  3.00041842],\n",
       "       ...,\n",
       "       [ 4.70722919,  0.24529419,  2.25393965, ...,  2.36193579,\n",
       "         4.38597198,  3.8190227 ],\n",
       "       [ 4.34584649,  3.42423284,  3.70352119, ...,  4.06186727,\n",
       "         3.00661404,  4.46684637],\n",
       "       [ 3.79491395,  2.38392036,  1.6943491 , ...,  3.58165858,\n",
       "         3.38964733,  3.23603841]])"
      ]
     },
     "execution_count": 11,
     "metadata": {},
     "output_type": "execute_result"
    }
   ],
   "source": [
    "factorizer.get_complete_matrix()"
   ]
  },
  {
   "cell_type": "code",
   "execution_count": 12,
   "metadata": {},
   "outputs": [
    {
     "data": {
      "text/plain": [
       "(6040, 3706)"
      ]
     },
     "execution_count": 12,
     "metadata": {},
     "output_type": "execute_result"
    }
   ],
   "source": [
    "factorizer.get_complete_matrix().shape"
   ]
  },
  {
   "cell_type": "code",
   "execution_count": 16,
   "metadata": {},
   "outputs": [],
   "source": [
    "# np.savetxt('matrix_factorization_50.csv', factorizer.get_complete_matrix(), delimiter=',')"
   ]
  },
  {
   "cell_type": "code",
   "execution_count": 17,
   "metadata": {},
   "outputs": [],
   "source": [
    "# np.savetxt('matrix_factorization_100.csv', factorizer.get_complete_matrix(), delimiter=',')"
   ]
  },
  {
   "cell_type": "code",
   "execution_count": 18,
   "metadata": {},
   "outputs": [],
   "source": [
    "# np.savetxt('matrix_factorization_50_200.csv', factorizer.get_complete_matrix(), delimiter=',')"
   ]
  },
  {
   "cell_type": "code",
   "execution_count": 20,
   "metadata": {},
   "outputs": [],
   "source": [
    "np.savetxt('matrix_factorization_100_200.csv', factorizer.get_complete_matrix(), delimiter=',')"
   ]
  },
  {
   "cell_type": "code",
   "execution_count": 130,
   "metadata": {},
   "outputs": [],
   "source": [
    "R_hat = factorizer.get_complete_matrix()"
   ]
  },
  {
   "cell_type": "code",
   "execution_count": 131,
   "metadata": {},
   "outputs": [],
   "source": [
    "R_hat = pd.DataFrame(R_hat)"
   ]
  },
  {
   "cell_type": "code",
   "execution_count": 178,
   "metadata": {},
   "outputs": [
    {
     "data": {
      "text/html": [
       "<div>\n",
       "<style scoped>\n",
       "    .dataframe tbody tr th:only-of-type {\n",
       "        vertical-align: middle;\n",
       "    }\n",
       "\n",
       "    .dataframe tbody tr th {\n",
       "        vertical-align: top;\n",
       "    }\n",
       "\n",
       "    .dataframe thead th {\n",
       "        text-align: right;\n",
       "    }\n",
       "</style>\n",
       "<table border=\"1\" class=\"dataframe\">\n",
       "  <thead>\n",
       "    <tr style=\"text-align: right;\">\n",
       "      <th></th>\n",
       "      <th>0</th>\n",
       "      <th>1</th>\n",
       "      <th>2</th>\n",
       "      <th>3</th>\n",
       "      <th>4</th>\n",
       "      <th>5</th>\n",
       "      <th>6</th>\n",
       "      <th>7</th>\n",
       "      <th>8</th>\n",
       "      <th>9</th>\n",
       "      <th>...</th>\n",
       "      <th>3696</th>\n",
       "      <th>3697</th>\n",
       "      <th>3698</th>\n",
       "      <th>3699</th>\n",
       "      <th>3700</th>\n",
       "      <th>3701</th>\n",
       "      <th>3702</th>\n",
       "      <th>3703</th>\n",
       "      <th>3704</th>\n",
       "      <th>3705</th>\n",
       "    </tr>\n",
       "  </thead>\n",
       "  <tbody>\n",
       "    <tr>\n",
       "      <td>0</td>\n",
       "      <td>4.755547</td>\n",
       "      <td>2.033814</td>\n",
       "      <td>4.213922</td>\n",
       "      <td>3.394411</td>\n",
       "      <td>3.475659</td>\n",
       "      <td>3.930883</td>\n",
       "      <td>3.125256</td>\n",
       "      <td>4.148436</td>\n",
       "      <td>3.552106</td>\n",
       "      <td>3.234247</td>\n",
       "      <td>...</td>\n",
       "      <td>2.428989</td>\n",
       "      <td>2.722257</td>\n",
       "      <td>1.391781</td>\n",
       "      <td>3.819924</td>\n",
       "      <td>2.236778</td>\n",
       "      <td>3.379428</td>\n",
       "      <td>3.411944</td>\n",
       "      <td>3.333198</td>\n",
       "      <td>3.696457</td>\n",
       "      <td>5.395869</td>\n",
       "    </tr>\n",
       "    <tr>\n",
       "      <td>1</td>\n",
       "      <td>3.338197</td>\n",
       "      <td>2.730199</td>\n",
       "      <td>2.925241</td>\n",
       "      <td>3.710608</td>\n",
       "      <td>2.146505</td>\n",
       "      <td>4.466167</td>\n",
       "      <td>4.600624</td>\n",
       "      <td>3.333255</td>\n",
       "      <td>2.852481</td>\n",
       "      <td>2.788075</td>\n",
       "      <td>...</td>\n",
       "      <td>4.163182</td>\n",
       "      <td>-1.587802</td>\n",
       "      <td>2.753048</td>\n",
       "      <td>1.912184</td>\n",
       "      <td>0.369491</td>\n",
       "      <td>3.976831</td>\n",
       "      <td>2.479168</td>\n",
       "      <td>7.424356</td>\n",
       "      <td>5.121560</td>\n",
       "      <td>3.626919</td>\n",
       "    </tr>\n",
       "    <tr>\n",
       "      <td>2</td>\n",
       "      <td>4.125804</td>\n",
       "      <td>1.967792</td>\n",
       "      <td>3.440321</td>\n",
       "      <td>1.016051</td>\n",
       "      <td>3.048603</td>\n",
       "      <td>4.638581</td>\n",
       "      <td>3.880037</td>\n",
       "      <td>2.977824</td>\n",
       "      <td>2.051205</td>\n",
       "      <td>4.302249</td>\n",
       "      <td>...</td>\n",
       "      <td>2.746396</td>\n",
       "      <td>0.924237</td>\n",
       "      <td>-0.559637</td>\n",
       "      <td>0.148119</td>\n",
       "      <td>1.857750</td>\n",
       "      <td>3.741147</td>\n",
       "      <td>2.069795</td>\n",
       "      <td>4.243776</td>\n",
       "      <td>-0.512379</td>\n",
       "      <td>3.000418</td>\n",
       "    </tr>\n",
       "    <tr>\n",
       "      <td>3</td>\n",
       "      <td>5.246838</td>\n",
       "      <td>4.282581</td>\n",
       "      <td>3.744931</td>\n",
       "      <td>3.252937</td>\n",
       "      <td>5.215523</td>\n",
       "      <td>3.975849</td>\n",
       "      <td>5.673020</td>\n",
       "      <td>3.621159</td>\n",
       "      <td>7.427757</td>\n",
       "      <td>5.159601</td>\n",
       "      <td>...</td>\n",
       "      <td>2.177891</td>\n",
       "      <td>3.999873</td>\n",
       "      <td>-3.225461</td>\n",
       "      <td>2.720257</td>\n",
       "      <td>5.876501</td>\n",
       "      <td>7.159135</td>\n",
       "      <td>7.514503</td>\n",
       "      <td>6.735638</td>\n",
       "      <td>7.660950</td>\n",
       "      <td>3.250176</td>\n",
       "    </tr>\n",
       "    <tr>\n",
       "      <td>4</td>\n",
       "      <td>3.700610</td>\n",
       "      <td>2.634328</td>\n",
       "      <td>1.275880</td>\n",
       "      <td>1.380742</td>\n",
       "      <td>0.584958</td>\n",
       "      <td>2.484456</td>\n",
       "      <td>0.567401</td>\n",
       "      <td>2.134120</td>\n",
       "      <td>1.900765</td>\n",
       "      <td>2.119476</td>\n",
       "      <td>...</td>\n",
       "      <td>2.307924</td>\n",
       "      <td>1.093768</td>\n",
       "      <td>1.385918</td>\n",
       "      <td>0.104831</td>\n",
       "      <td>1.921875</td>\n",
       "      <td>2.104504</td>\n",
       "      <td>3.375815</td>\n",
       "      <td>3.694726</td>\n",
       "      <td>1.342892</td>\n",
       "      <td>2.152543</td>\n",
       "    </tr>\n",
       "    <tr>\n",
       "      <td>...</td>\n",
       "      <td>...</td>\n",
       "      <td>...</td>\n",
       "      <td>...</td>\n",
       "      <td>...</td>\n",
       "      <td>...</td>\n",
       "      <td>...</td>\n",
       "      <td>...</td>\n",
       "      <td>...</td>\n",
       "      <td>...</td>\n",
       "      <td>...</td>\n",
       "      <td>...</td>\n",
       "      <td>...</td>\n",
       "      <td>...</td>\n",
       "      <td>...</td>\n",
       "      <td>...</td>\n",
       "      <td>...</td>\n",
       "      <td>...</td>\n",
       "      <td>...</td>\n",
       "      <td>...</td>\n",
       "      <td>...</td>\n",
       "      <td>...</td>\n",
       "    </tr>\n",
       "    <tr>\n",
       "      <td>6035</td>\n",
       "      <td>3.985724</td>\n",
       "      <td>2.810716</td>\n",
       "      <td>2.605302</td>\n",
       "      <td>2.423510</td>\n",
       "      <td>2.999838</td>\n",
       "      <td>3.197214</td>\n",
       "      <td>1.965671</td>\n",
       "      <td>2.379652</td>\n",
       "      <td>1.467432</td>\n",
       "      <td>2.793067</td>\n",
       "      <td>...</td>\n",
       "      <td>2.507704</td>\n",
       "      <td>3.055538</td>\n",
       "      <td>0.855658</td>\n",
       "      <td>1.794564</td>\n",
       "      <td>4.380316</td>\n",
       "      <td>3.426443</td>\n",
       "      <td>4.304635</td>\n",
       "      <td>3.433445</td>\n",
       "      <td>3.917901</td>\n",
       "      <td>3.015373</td>\n",
       "    </tr>\n",
       "    <tr>\n",
       "      <td>6036</td>\n",
       "      <td>4.056405</td>\n",
       "      <td>3.457767</td>\n",
       "      <td>3.621037</td>\n",
       "      <td>3.409232</td>\n",
       "      <td>3.410353</td>\n",
       "      <td>3.970278</td>\n",
       "      <td>3.223135</td>\n",
       "      <td>3.361843</td>\n",
       "      <td>3.277914</td>\n",
       "      <td>2.674236</td>\n",
       "      <td>...</td>\n",
       "      <td>3.109017</td>\n",
       "      <td>3.343487</td>\n",
       "      <td>4.175677</td>\n",
       "      <td>2.017482</td>\n",
       "      <td>3.148660</td>\n",
       "      <td>3.622418</td>\n",
       "      <td>2.954660</td>\n",
       "      <td>3.232084</td>\n",
       "      <td>4.042181</td>\n",
       "      <td>3.810769</td>\n",
       "    </tr>\n",
       "    <tr>\n",
       "      <td>6037</td>\n",
       "      <td>4.707229</td>\n",
       "      <td>0.245294</td>\n",
       "      <td>2.253940</td>\n",
       "      <td>0.345641</td>\n",
       "      <td>1.881514</td>\n",
       "      <td>3.814959</td>\n",
       "      <td>5.092170</td>\n",
       "      <td>5.449143</td>\n",
       "      <td>1.605070</td>\n",
       "      <td>3.822454</td>\n",
       "      <td>...</td>\n",
       "      <td>3.128218</td>\n",
       "      <td>-2.082497</td>\n",
       "      <td>-1.265217</td>\n",
       "      <td>-2.368749</td>\n",
       "      <td>5.252848</td>\n",
       "      <td>1.576240</td>\n",
       "      <td>2.284901</td>\n",
       "      <td>2.361936</td>\n",
       "      <td>4.385972</td>\n",
       "      <td>3.819023</td>\n",
       "    </tr>\n",
       "    <tr>\n",
       "      <td>6038</td>\n",
       "      <td>4.345846</td>\n",
       "      <td>3.424233</td>\n",
       "      <td>3.703521</td>\n",
       "      <td>2.921033</td>\n",
       "      <td>3.293632</td>\n",
       "      <td>3.985757</td>\n",
       "      <td>4.136858</td>\n",
       "      <td>2.572844</td>\n",
       "      <td>3.595326</td>\n",
       "      <td>3.245987</td>\n",
       "      <td>...</td>\n",
       "      <td>3.686758</td>\n",
       "      <td>-0.927041</td>\n",
       "      <td>0.675161</td>\n",
       "      <td>2.534309</td>\n",
       "      <td>2.869840</td>\n",
       "      <td>3.359357</td>\n",
       "      <td>4.095073</td>\n",
       "      <td>4.061867</td>\n",
       "      <td>3.006614</td>\n",
       "      <td>4.466846</td>\n",
       "    </tr>\n",
       "    <tr>\n",
       "      <td>6039</td>\n",
       "      <td>3.794914</td>\n",
       "      <td>2.383920</td>\n",
       "      <td>1.694349</td>\n",
       "      <td>2.444526</td>\n",
       "      <td>2.341223</td>\n",
       "      <td>4.898501</td>\n",
       "      <td>3.241585</td>\n",
       "      <td>1.936208</td>\n",
       "      <td>2.112126</td>\n",
       "      <td>3.043646</td>\n",
       "      <td>...</td>\n",
       "      <td>2.698771</td>\n",
       "      <td>4.136941</td>\n",
       "      <td>1.253467</td>\n",
       "      <td>1.405075</td>\n",
       "      <td>4.368409</td>\n",
       "      <td>3.697394</td>\n",
       "      <td>4.438515</td>\n",
       "      <td>3.581659</td>\n",
       "      <td>3.389647</td>\n",
       "      <td>3.236038</td>\n",
       "    </tr>\n",
       "  </tbody>\n",
       "</table>\n",
       "<p>6040 rows × 3706 columns</p>\n",
       "</div>"
      ],
      "text/plain": [
       "          0         1         2         3         4         5         6     \\\n",
       "0     4.755547  2.033814  4.213922  3.394411  3.475659  3.930883  3.125256   \n",
       "1     3.338197  2.730199  2.925241  3.710608  2.146505  4.466167  4.600624   \n",
       "2     4.125804  1.967792  3.440321  1.016051  3.048603  4.638581  3.880037   \n",
       "3     5.246838  4.282581  3.744931  3.252937  5.215523  3.975849  5.673020   \n",
       "4     3.700610  2.634328  1.275880  1.380742  0.584958  2.484456  0.567401   \n",
       "...        ...       ...       ...       ...       ...       ...       ...   \n",
       "6035  3.985724  2.810716  2.605302  2.423510  2.999838  3.197214  1.965671   \n",
       "6036  4.056405  3.457767  3.621037  3.409232  3.410353  3.970278  3.223135   \n",
       "6037  4.707229  0.245294  2.253940  0.345641  1.881514  3.814959  5.092170   \n",
       "6038  4.345846  3.424233  3.703521  2.921033  3.293632  3.985757  4.136858   \n",
       "6039  3.794914  2.383920  1.694349  2.444526  2.341223  4.898501  3.241585   \n",
       "\n",
       "          7         8         9     ...      3696      3697      3698  \\\n",
       "0     4.148436  3.552106  3.234247  ...  2.428989  2.722257  1.391781   \n",
       "1     3.333255  2.852481  2.788075  ...  4.163182 -1.587802  2.753048   \n",
       "2     2.977824  2.051205  4.302249  ...  2.746396  0.924237 -0.559637   \n",
       "3     3.621159  7.427757  5.159601  ...  2.177891  3.999873 -3.225461   \n",
       "4     2.134120  1.900765  2.119476  ...  2.307924  1.093768  1.385918   \n",
       "...        ...       ...       ...  ...       ...       ...       ...   \n",
       "6035  2.379652  1.467432  2.793067  ...  2.507704  3.055538  0.855658   \n",
       "6036  3.361843  3.277914  2.674236  ...  3.109017  3.343487  4.175677   \n",
       "6037  5.449143  1.605070  3.822454  ...  3.128218 -2.082497 -1.265217   \n",
       "6038  2.572844  3.595326  3.245987  ...  3.686758 -0.927041  0.675161   \n",
       "6039  1.936208  2.112126  3.043646  ...  2.698771  4.136941  1.253467   \n",
       "\n",
       "          3699      3700      3701      3702      3703      3704      3705  \n",
       "0     3.819924  2.236778  3.379428  3.411944  3.333198  3.696457  5.395869  \n",
       "1     1.912184  0.369491  3.976831  2.479168  7.424356  5.121560  3.626919  \n",
       "2     0.148119  1.857750  3.741147  2.069795  4.243776 -0.512379  3.000418  \n",
       "3     2.720257  5.876501  7.159135  7.514503  6.735638  7.660950  3.250176  \n",
       "4     0.104831  1.921875  2.104504  3.375815  3.694726  1.342892  2.152543  \n",
       "...        ...       ...       ...       ...       ...       ...       ...  \n",
       "6035  1.794564  4.380316  3.426443  4.304635  3.433445  3.917901  3.015373  \n",
       "6036  2.017482  3.148660  3.622418  2.954660  3.232084  4.042181  3.810769  \n",
       "6037 -2.368749  5.252848  1.576240  2.284901  2.361936  4.385972  3.819023  \n",
       "6038  2.534309  2.869840  3.359357  4.095073  4.061867  3.006614  4.466846  \n",
       "6039  1.405075  4.368409  3.697394  4.438515  3.581659  3.389647  3.236038  \n",
       "\n",
       "[6040 rows x 3706 columns]"
      ]
     },
     "execution_count": 178,
     "metadata": {},
     "output_type": "execute_result"
    }
   ],
   "source": [
    "R_hat"
   ]
  },
  {
   "cell_type": "code",
   "execution_count": 179,
   "metadata": {},
   "outputs": [],
   "source": [
    "# index로 읽을 때는 user_id에서 1 빼서\n",
    "user_rec_list = pd.DataFrame()\n",
    "user_rec_list['user_id'] = np.arange(user_cnt+1)\n",
    "user_rec_list['movie_ids'] = R_copy.rating.apply(lambda row : np.array(row.dropna(axis=0).index), axis=1)"
   ]
  },
  {
   "cell_type": "code",
   "execution_count": 180,
   "metadata": {},
   "outputs": [],
   "source": [
    "user_rec_list = user_rec_list.drop(0,axis=0)"
   ]
  },
  {
   "cell_type": "code",
   "execution_count": 181,
   "metadata": {},
   "outputs": [],
   "source": [
    "user_rec_list = user_rec_list.set_index(\"user_id\")"
   ]
  },
  {
   "cell_type": "code",
   "execution_count": 182,
   "metadata": {},
   "outputs": [
    {
     "data": {
      "text/plain": [
       "array([   1,   48,  150,  260,  527,  531,  588,  594,  595,  608,  661,\n",
       "        720,  745,  783,  914,  919,  938, 1022, 1028, 1029, 1035, 1097,\n",
       "       1193, 1197, 1207, 1246, 1270, 1287, 1545, 1566, 1721, 1836, 1907,\n",
       "       1961, 1962, 2018, 2028, 2294, 2321, 2340, 2355, 2398, 2687, 2692,\n",
       "       2762, 2791, 2797, 2804, 2918, 3105, 3114, 3186, 3408], dtype=int64)"
      ]
     },
     "execution_count": 182,
     "metadata": {},
     "output_type": "execute_result"
    }
   ],
   "source": [
    "user_rec_list.movie_ids[1]"
   ]
  },
  {
   "cell_type": "code",
   "execution_count": null,
   "metadata": {},
   "outputs": [],
   "source": [
    "# np.array(R_hat.iloc[0].sort_values(ascending=False).index)"
   ]
  },
  {
   "cell_type": "code",
   "execution_count": 183,
   "metadata": {},
   "outputs": [
    {
     "name": "stdout",
     "output_type": "stream",
     "text": [
      "Wall time: 27.8 s\n"
     ]
    }
   ],
   "source": [
    "%%time\n",
    "from collections import deque\n",
    "\n",
    "for i in range(user_cnt):\n",
    "    movie_all = R_hat.iloc[i].to_dict()\n",
    "#     print(len(movie_all))\n",
    "    user_movie = user_rec_list.movie_ids[i+1]\n",
    "    \n",
    "    for m in user_movie:\n",
    "        if m in movie_all.keys():\n",
    "            del movie_all[m]\n",
    "    \n",
    "    user_rec_list.movie_ids[i+1] = deque()\n",
    "    movie_all = sorted(movie_all.items(), key=lambda x:x[1], reverse=True)\n",
    "    movie_all = movie_all[:100]\n",
    "    \n",
    "    for item in movie_all:\n",
    "        user_rec_list.movie_ids[i+1].append(item[0])"
   ]
  },
  {
   "cell_type": "code",
   "execution_count": 184,
   "metadata": {},
   "outputs": [
    {
     "data": {
      "text/html": [
       "<div>\n",
       "<style scoped>\n",
       "    .dataframe tbody tr th:only-of-type {\n",
       "        vertical-align: middle;\n",
       "    }\n",
       "\n",
       "    .dataframe tbody tr th {\n",
       "        vertical-align: top;\n",
       "    }\n",
       "\n",
       "    .dataframe thead th {\n",
       "        text-align: right;\n",
       "    }\n",
       "</style>\n",
       "<table border=\"1\" class=\"dataframe\">\n",
       "  <thead>\n",
       "    <tr style=\"text-align: right;\">\n",
       "      <th></th>\n",
       "      <th>movie_ids</th>\n",
       "    </tr>\n",
       "    <tr>\n",
       "      <th>user_id</th>\n",
       "      <th></th>\n",
       "    </tr>\n",
       "  </thead>\n",
       "  <tbody>\n",
       "    <tr>\n",
       "      <td>1</td>\n",
       "      <td>[3658, 36, 161, 1266, 718, 219, 125, 390, 732,...</td>\n",
       "    </tr>\n",
       "    <tr>\n",
       "      <td>2</td>\n",
       "      <td>[1359, 2688, 2035, 650, 2421, 3361, 3363, 1349...</td>\n",
       "    </tr>\n",
       "    <tr>\n",
       "      <td>3</td>\n",
       "      <td>[3109, 1077, 2394, 1220, 864, 3644, 1975, 2165...</td>\n",
       "    </tr>\n",
       "    <tr>\n",
       "      <td>4</td>\n",
       "      <td>[922, 2481, 791, 3069, 720, 2706, 3424, 693, 1...</td>\n",
       "    </tr>\n",
       "    <tr>\n",
       "      <td>5</td>\n",
       "      <td>[682, 1626, 1056, 937, 2032, 3021, 636, 1001, ...</td>\n",
       "    </tr>\n",
       "    <tr>\n",
       "      <td>...</td>\n",
       "      <td>...</td>\n",
       "    </tr>\n",
       "    <tr>\n",
       "      <td>6036</td>\n",
       "      <td>[809, 820, 1221, 2387, 974, 918, 3009, 1616, 2...</td>\n",
       "    </tr>\n",
       "    <tr>\n",
       "      <td>6037</td>\n",
       "      <td>[1691, 592, 775, 1026, 3124, 2787, 546, 828, 2...</td>\n",
       "    </tr>\n",
       "    <tr>\n",
       "      <td>6038</td>\n",
       "      <td>[2924, 2868, 791, 3062, 3089, 3144, 748, 1062,...</td>\n",
       "    </tr>\n",
       "    <tr>\n",
       "      <td>6039</td>\n",
       "      <td>[565, 3557, 2982, 1448, 2843, 1663, 650, 2293,...</td>\n",
       "    </tr>\n",
       "    <tr>\n",
       "      <td>6040</td>\n",
       "      <td>[2620, 3176, 1606, 834, 809, 2638, 1691, 2038,...</td>\n",
       "    </tr>\n",
       "  </tbody>\n",
       "</table>\n",
       "<p>6040 rows × 1 columns</p>\n",
       "</div>"
      ],
      "text/plain": [
       "                                                 movie_ids\n",
       "user_id                                                   \n",
       "1        [3658, 36, 161, 1266, 718, 219, 125, 390, 732,...\n",
       "2        [1359, 2688, 2035, 650, 2421, 3361, 3363, 1349...\n",
       "3        [3109, 1077, 2394, 1220, 864, 3644, 1975, 2165...\n",
       "4        [922, 2481, 791, 3069, 720, 2706, 3424, 693, 1...\n",
       "5        [682, 1626, 1056, 937, 2032, 3021, 636, 1001, ...\n",
       "...                                                    ...\n",
       "6036     [809, 820, 1221, 2387, 974, 918, 3009, 1616, 2...\n",
       "6037     [1691, 592, 775, 1026, 3124, 2787, 546, 828, 2...\n",
       "6038     [2924, 2868, 791, 3062, 3089, 3144, 748, 1062,...\n",
       "6039     [565, 3557, 2982, 1448, 2843, 1663, 650, 2293,...\n",
       "6040     [2620, 3176, 1606, 834, 809, 2638, 1691, 2038,...\n",
       "\n",
       "[6040 rows x 1 columns]"
      ]
     },
     "execution_count": 184,
     "metadata": {},
     "output_type": "execute_result"
    }
   ],
   "source": [
    "user_rec_list"
   ]
  },
  {
   "cell_type": "code",
   "execution_count": 118,
   "metadata": {},
   "outputs": [],
   "source": [
    "# R_copy.rating.apply(lambda row : np.array(row.dropna(axis=0).index), axis=1)"
   ]
  },
  {
   "cell_type": "code",
   "execution_count": 101,
   "metadata": {
    "scrolled": true
   },
   "outputs": [],
   "source": [
    "# R_copy.rating.iloc[0].dropna().index.values"
   ]
  },
  {
   "cell_type": "code",
   "execution_count": 119,
   "metadata": {},
   "outputs": [],
   "source": [
    "# R_copy.rating.apply(lambda row : np.array(row.dropna(axis=0).index), axis=1)"
   ]
  },
  {
   "cell_type": "code",
   "execution_count": 89,
   "metadata": {
    "scrolled": false
   },
   "outputs": [],
   "source": [
    "aa = R_copy.rating.iloc[0].dropna().index.values"
   ]
  },
  {
   "cell_type": "code",
   "execution_count": 138,
   "metadata": {},
   "outputs": [
    {
     "data": {
      "text/plain": [
       "<bound method Series.to_dict of 3658    11.860628\n",
       "36      10.967847\n",
       "161     10.302221\n",
       "1266    10.073938\n",
       "718      9.955167\n",
       "          ...    \n",
       "1723    -1.915755\n",
       "186     -2.295102\n",
       "3536    -2.396051\n",
       "1287    -2.596076\n",
       "1710    -2.696872\n",
       "Name: 0, Length: 3706, dtype: float64>"
      ]
     },
     "execution_count": 138,
     "metadata": {},
     "output_type": "execute_result"
    }
   ],
   "source": [
    "R_hat.iloc[0].sort_values(ascending=False).to_dict\n",
    "# R_hat.apply(lambda row : np.array(row), axis=1)"
   ]
  },
  {
   "cell_type": "code",
   "execution_count": null,
   "metadata": {},
   "outputs": [],
   "source": [
    "R_hat."
   ]
  },
  {
   "cell_type": "code",
   "execution_count": 92,
   "metadata": {},
   "outputs": [
    {
     "data": {
      "text/plain": [
       "array([   0,    2,    3, ..., 3703, 3704, 3705], dtype=int64)"
      ]
     },
     "execution_count": 92,
     "metadata": {},
     "output_type": "execute_result"
    }
   ],
   "source": [
    "# 차집합\n",
    "np.setdiff1d(bb, aa)"
   ]
  },
  {
   "cell_type": "code",
   "execution_count": null,
   "metadata": {},
   "outputs": [],
   "source": [
    "# user_id에 맞게 저장하기\n",
    "# {user_id : [], user_id : [] , ... }\n"
   ]
  },
  {
   "cell_type": "code",
   "execution_count": 185,
   "metadata": {
    "scrolled": true
   },
   "outputs": [],
   "source": [
    "# for movie_id in np.nditer(R_copy.rating.iloc[0].dropna().index.values):\n",
    "#     print(movie_id)"
   ]
  },
  {
   "cell_type": "code",
   "execution_count": null,
   "metadata": {},
   "outputs": [],
   "source": []
  },
  {
   "cell_type": "code",
   "execution_count": 48,
   "metadata": {},
   "outputs": [
    {
     "data": {
      "text/plain": [
       "array([   1,    2,    3, ..., 3703, 3704, 3705], dtype=int64)"
      ]
     },
     "execution_count": 48,
     "metadata": {},
     "output_type": "execute_result"
    }
   ],
   "source": [
    "# np.argwhere(np.isnan(x))\n",
    "np.argwhere(np.isnan(R_copy.iloc[0]))[:, 0]"
   ]
  },
  {
   "cell_type": "code",
   "execution_count": null,
   "metadata": {},
   "outputs": [],
   "source": []
  }
 ],
 "metadata": {
  "kernelspec": {
   "display_name": "Python 3",
   "language": "python",
   "name": "python3"
  },
  "language_info": {
   "codemirror_mode": {
    "name": "ipython",
    "version": 3
   },
   "file_extension": ".py",
   "mimetype": "text/x-python",
   "name": "python",
   "nbconvert_exporter": "python",
   "pygments_lexer": "ipython3",
   "version": "3.5.3"
  }
 },
 "nbformat": 4,
 "nbformat_minor": 2
}
